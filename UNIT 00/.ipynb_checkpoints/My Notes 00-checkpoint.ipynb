{
 "cells": [
  {
   "cell_type": "markdown",
   "id": "c362b08d-ddaf-4cac-80ae-0fcb409e0470",
   "metadata": {},
   "source": [
    "# Floor Divison (Quotient)"
   ]
  },
  {
   "cell_type": "code",
   "execution_count": 4,
   "id": "20e0e51d-e87e-42c3-a72a-5c21c56575cd",
   "metadata": {},
   "outputs": [
    {
     "data": {
      "text/plain": [
       "1"
      ]
     },
     "execution_count": 4,
     "metadata": {},
     "output_type": "execute_result"
    }
   ],
   "source": [
    "3//2\n"
   ]
  },
  {
   "cell_type": "code",
   "execution_count": 5,
   "id": "49b7c617-8ce6-47f4-a537-edb7dc974d8f",
   "metadata": {},
   "outputs": [
    {
     "data": {
      "text/plain": [
       "0"
      ]
     },
     "execution_count": 5,
     "metadata": {},
     "output_type": "execute_result"
    }
   ],
   "source": [
    "5//6"
   ]
  },
  {
   "cell_type": "code",
   "execution_count": 7,
   "id": "cf5c6a0d-fa93-45ea-9e9f-76f855fcd8a6",
   "metadata": {},
   "outputs": [
    {
     "data": {
      "text/plain": [
       "0"
      ]
     },
     "execution_count": 7,
     "metadata": {},
     "output_type": "execute_result"
    }
   ],
   "source": [
    "7//8"
   ]
  },
  {
   "cell_type": "markdown",
   "id": "451cd7d0-6315-450f-b686-43ecae7038c3",
   "metadata": {},
   "source": [
    "# Mod operator"
   ]
  },
  {
   "cell_type": "code",
   "execution_count": 8,
   "id": "95059bd9-5b36-4426-927f-ae17dbce46c5",
   "metadata": {},
   "outputs": [
    {
     "data": {
      "text/plain": [
       "1"
      ]
     },
     "execution_count": 8,
     "metadata": {},
     "output_type": "execute_result"
    }
   ],
   "source": [
    "3%2"
   ]
  },
  {
   "cell_type": "markdown",
   "id": "076fd55e-134c-4cfe-b8ad-c1aebd857556",
   "metadata": {},
   "source": [
    "# String formatting"
   ]
  },
  {
   "cell_type": "markdown",
   "id": "d824c039-aed0-4653-9649-4d69d1742c22",
   "metadata": {},
   "source": [
    "Three types we could use for formatting \n",
    "1. %s operator\n",
    "2. %r operator (creates a string in a string)\n",
    "3. %d operator (coverts a number into string)\n",
    "4. .format()\n",
    "5. f-string literals"
   ]
  },
  {
   "cell_type": "markdown",
   "id": "c022a280-4c82-42cc-9769-0f93eb2fda73",
   "metadata": {},
   "source": [
    "### % formatting "
   ]
  },
  {
   "cell_type": "code",
   "execution_count": 9,
   "id": "ba13773e-6145-449e-aea6-8f6d7a989433",
   "metadata": {},
   "outputs": [
    {
     "name": "stdout",
     "output_type": "stream",
     "text": [
      "I'm going to inject something here.\n"
     ]
    }
   ],
   "source": [
    "print(\"I'm going to inject %s here.\" %'something')"
   ]
  },
  {
   "cell_type": "code",
   "execution_count": 10,
   "id": "c49d95c0-9b88-477d-9585-022efbc4338b",
   "metadata": {},
   "outputs": [
    {
     "name": "stdout",
     "output_type": "stream",
     "text": [
      "I will catch a 'big \\tfish'\n"
     ]
    }
   ],
   "source": [
    "print(\"I will catch a %r\"%'big \\tfish')"
   ]
  },
  {
   "cell_type": "code",
   "execution_count": 12,
   "id": "78310bf3-722e-48f1-9fc6-bc6e33b30854",
   "metadata": {},
   "outputs": [
    {
     "name": "stdout",
     "output_type": "stream",
     "text": [
      "I caught 30 fishes\n"
     ]
    }
   ],
   "source": [
    "print(\"I caught %d fishes\"%30.75)"
   ]
  },
  {
   "cell_type": "markdown",
   "id": "7e65d83a-489a-4eb5-9eac-12a7787961c9",
   "metadata": {},
   "source": [
    "# Padding and precision of floating number \n",
    "For eg ; \n",
    "5.2f, in this 5 is the length of numbers and .2f represents how many numbers can before .2f is "
   ]
  },
  {
   "cell_type": "code",
   "execution_count": 16,
   "id": "692f1efe-2cd6-41c3-afe6-034aa8334d5a",
   "metadata": {},
   "outputs": [
    {
     "name": "stdout",
     "output_type": "stream",
     "text": [
      "13.44\n"
     ]
    }
   ],
   "source": [
    "print(\"%5.2f\"%(13.444))"
   ]
  },
  {
   "cell_type": "code",
   "execution_count": 19,
   "id": "55821717-7e25-48a3-ad7e-7f94b13888bd",
   "metadata": {},
   "outputs": [
    {
     "name": "stdin",
     "output_type": "stream",
     "text": [
      "Your salary =  20000\n"
     ]
    },
    {
     "name": "stdout",
     "output_type": "stream",
     "text": [
      "The tax you need to pay   2000.000\n"
     ]
    }
   ],
   "source": [
    "Salary = float(input(\"Your salary = \"))\n",
    "tax = 10\n",
    "tax_rate = (Salary * tax)/100\n",
    "print(\"The tax you need to pay %10.3f\"%tax_rate)"
   ]
  },
  {
   "cell_type": "markdown",
   "id": "862c06fb-1681-4235-95b7-29265a555b1a",
   "metadata": {},
   "source": [
    "### Formating with <b><u>.format()</u></b>"
   ]
  },
  {
   "cell_type": "code",
   "execution_count": 20,
   "id": "a1543a16-d37e-4459-b44b-88cfe73a596a",
   "metadata": {},
   "outputs": [
    {
     "name": "stdout",
     "output_type": "stream",
     "text": [
      "There is something i need to tell you \n"
     ]
    }
   ],
   "source": [
    "print(\"There is something i need to {t} {y} \".format(t = \"tell\",y = \"you\"))"
   ]
  },
  {
   "cell_type": "code",
   "execution_count": 22,
   "id": "bfed3a80-aff8-4868-abe3-5809d8b999ef",
   "metadata": {},
   "outputs": [],
   "source": [
    "# {0} {r} Storing value like these are called placeholders "
   ]
  },
  {
   "cell_type": "markdown",
   "id": "40de52a0-cfd0-4f6a-b518-75efe3dc4c2e",
   "metadata": {},
   "source": [
    "### FLoat number padding with ,format()"
   ]
  },
  {
   "cell_type": "code",
   "execution_count": 1,
   "id": "15c05b0c-b4ab-49e9-b884-8d54153ec6c4",
   "metadata": {},
   "outputs": [
    {
     "name": "stdout",
     "output_type": "stream",
     "text": [
      "This is my ten-character, two-decimal number:     13.58\n"
     ]
    }
   ],
   "source": [
    "print('This is my ten-character, two-decimal number:{r:10.2f}'.format(r = 13.579))"
   ]
  },
  {
   "cell_type": "markdown",
   "id": "25d13d81-3f7a-4900-982d-9949c5d3fc18",
   "metadata": {},
   "source": [
    "### F-string literals() float number padding "
   ]
  },
  {
   "cell_type": "code",
   "execution_count": 25,
   "id": "807b5bfc-9e62-49c8-b3a1-b4f1ec67910a",
   "metadata": {},
   "outputs": [],
   "source": [
    "num = 60.269"
   ]
  },
  {
   "cell_type": "code",
   "execution_count": 26,
   "id": "9447af5b-9863-449f-a127-df2c581b20c3",
   "metadata": {},
   "outputs": [
    {
     "name": "stdout",
     "output_type": "stream",
     "text": [
      "My 10 character, four decimal number is:   60.2690\n"
     ]
    }
   ],
   "source": [
    "print(f\"My 10 character, four decimal number is:{num:10.4f}\")"
   ]
  },
  {
   "cell_type": "code",
   "execution_count": 1,
   "id": "1540ec41-e75a-4efc-8483-3b523c523a07",
   "metadata": {},
   "outputs": [
    {
     "name": "stdin",
     "output_type": "stream",
     "text": [
      "Enter your result =  589.235\n"
     ]
    },
    {
     "name": "stdout",
     "output_type": "stream",
     "text": [
      "The result is 589.24\n",
      "The result is 589.24\n",
      "The result is 589.24\n"
     ]
    }
   ],
   "source": [
    "result = float(input(\"Enter your result = \"))\n",
    "print(\"The result is %2.2f\"%(result))\n",
    "print(\"The result is {r:2.2f}\".format(r = result))\n",
    "print(f\"The result is {result:2.2f}\")"
   ]
  },
  {
   "cell_type": "code",
   "execution_count": null,
   "id": "46009bed-6f4b-477c-873c-2c53b6692133",
   "metadata": {},
   "outputs": [],
   "source": []
  }
 ],
 "metadata": {
  "kernelspec": {
   "display_name": "Python 3 (ipykernel)",
   "language": "python",
   "name": "python3"
  },
  "language_info": {
   "codemirror_mode": {
    "name": "ipython",
    "version": 3
   },
   "file_extension": ".py",
   "mimetype": "text/x-python",
   "name": "python",
   "nbconvert_exporter": "python",
   "pygments_lexer": "ipython3",
   "version": "3.11.4"
  }
 },
 "nbformat": 4,
 "nbformat_minor": 5
}
