{
 "cells": [
  {
   "cell_type": "code",
   "execution_count": 1,
   "id": "ad925ecd-1a40-410d-9008-d5e6f15e4385",
   "metadata": {},
   "outputs": [],
   "source": [
    "# Dictionaries uses key value pairs and {}"
   ]
  },
  {
   "cell_type": "code",
   "execution_count": 2,
   "id": "e856f17b-c389-4a0e-966a-e157d8589714",
   "metadata": {},
   "outputs": [],
   "source": [
    "# It is unordered and can not be sorted"
   ]
  },
  {
   "cell_type": "code",
   "execution_count": 3,
   "id": "57291201-fd14-4fc7-88f1-7795966f3249",
   "metadata": {},
   "outputs": [],
   "source": [
    "my_dict = {\"key1\":\"value1\",\n",
    "          \"key2\":\"value2\",}"
   ]
  },
  {
   "cell_type": "code",
   "execution_count": 4,
   "id": "0bcda5e8-4ed7-49b8-abdd-935c8dc30ede",
   "metadata": {},
   "outputs": [
    {
     "data": {
      "text/plain": [
       "{'key1': 'value1', 'key2': 'value2'}"
      ]
     },
     "execution_count": 4,
     "metadata": {},
     "output_type": "execute_result"
    }
   ],
   "source": [
    "my_dict"
   ]
  },
  {
   "cell_type": "code",
   "execution_count": 6,
   "id": "080aaac1-06db-419d-91b7-d31dc6af19e4",
   "metadata": {},
   "outputs": [
    {
     "data": {
      "text/plain": [
       "'value1'"
      ]
     },
     "execution_count": 6,
     "metadata": {},
     "output_type": "execute_result"
    }
   ],
   "source": [
    "my_dict['key1']"
   ]
  },
  {
   "cell_type": "code",
   "execution_count": null,
   "id": "15e71e22-283b-4fff-b7d7-1624608f00c1",
   "metadata": {},
   "outputs": [],
   "source": [
    "d = {\"k1\"}"
   ]
  }
 ],
 "metadata": {
  "kernelspec": {
   "display_name": "Python 3 (ipykernel)",
   "language": "python",
   "name": "python3"
  },
  "language_info": {
   "codemirror_mode": {
    "name": "ipython",
    "version": 3
   },
   "file_extension": ".py",
   "mimetype": "text/x-python",
   "name": "python",
   "nbconvert_exporter": "python",
   "pygments_lexer": "ipython3",
   "version": "3.11.4"
  }
 },
 "nbformat": 4,
 "nbformat_minor": 5
}
