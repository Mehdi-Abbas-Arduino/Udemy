{
 "cells": [
  {
   "cell_type": "code",
   "execution_count": 12,
   "id": "b50dc5df-9b76-4fa2-bfd3-56f8994e4be0",
   "metadata": {},
   "outputs": [],
   "source": [
    "# List can hold multiple types of data "
   ]
  },
  {
   "cell_type": "code",
   "execution_count": 13,
   "id": "e10c1803-af5e-45db-9a22-31cb909f9e47",
   "metadata": {},
   "outputs": [],
   "source": [
    "my_list = [\"Mehdi\",45,4.526,True]"
   ]
  },
  {
   "cell_type": "code",
   "execution_count": 14,
   "id": "2e3205ad-cf26-440b-8afc-444664ce1ddc",
   "metadata": {},
   "outputs": [
    {
     "data": {
      "text/plain": [
       "['Mehdi', 45, 4.526, True]"
      ]
     },
     "execution_count": 14,
     "metadata": {},
     "output_type": "execute_result"
    }
   ],
   "source": [
    "my_list"
   ]
  },
  {
   "cell_type": "code",
   "execution_count": 15,
   "id": "9dfb1209-e817-4e1a-a91e-cededc4163df",
   "metadata": {},
   "outputs": [
    {
     "data": {
      "text/plain": [
       "list"
      ]
     },
     "execution_count": 15,
     "metadata": {},
     "output_type": "execute_result"
    }
   ],
   "source": [
    "type(my_list)"
   ]
  },
  {
   "cell_type": "markdown",
   "id": "d2ea9ab6-6958-41e7-98b4-96933e6ed553",
   "metadata": {},
   "source": [
    "#  List Functions"
   ]
  },
  {
   "cell_type": "code",
   "execution_count": 16,
   "id": "199ca14c-b6d5-4d7d-8de8-70234df57185",
   "metadata": {},
   "outputs": [
    {
     "data": {
      "text/plain": [
       "4"
      ]
     },
     "execution_count": 16,
     "metadata": {},
     "output_type": "execute_result"
    }
   ],
   "source": [
    "len(my_list)"
   ]
  },
  {
   "cell_type": "markdown",
   "id": "447b6263-bc36-4cb6-a4aa-9b41e79113db",
   "metadata": {},
   "source": [
    "# List indexing"
   ]
  },
  {
   "cell_type": "code",
   "execution_count": 17,
   "id": "48c68dd1-c7c7-4647-8207-3305393a05f4",
   "metadata": {},
   "outputs": [
    {
     "data": {
      "text/plain": [
       "'Mehdi'"
      ]
     },
     "execution_count": 17,
     "metadata": {},
     "output_type": "execute_result"
    }
   ],
   "source": [
    "my_list[0]"
   ]
  },
  {
   "cell_type": "code",
   "execution_count": 18,
   "id": "19209e10-80c3-47a4-8901-949706dc26cb",
   "metadata": {},
   "outputs": [
    {
     "data": {
      "text/plain": [
       "['Mehdi', 45, 4.526, True]"
      ]
     },
     "execution_count": 18,
     "metadata": {},
     "output_type": "execute_result"
    }
   ],
   "source": [
    "my_list[0:]"
   ]
  },
  {
   "cell_type": "code",
   "execution_count": 19,
   "id": "92abc31d-78cb-45dd-929b-78b4130b975d",
   "metadata": {},
   "outputs": [
    {
     "data": {
      "text/plain": [
       "['Mehdi', 45, 4.526]"
      ]
     },
     "execution_count": 19,
     "metadata": {},
     "output_type": "execute_result"
    }
   ],
   "source": [
    "my_list[:3]"
   ]
  },
  {
   "cell_type": "code",
   "execution_count": 20,
   "id": "e54e6cac-fda1-4222-9591-4e5eb889473f",
   "metadata": {},
   "outputs": [],
   "source": [
    "# String Concatenation"
   ]
  },
  {
   "cell_type": "code",
   "execution_count": 21,
   "id": "26b19073-6f4d-4157-b114-35194aa4687a",
   "metadata": {},
   "outputs": [],
   "source": [
    "sequence1 = [\"one\",\"two\",\"three\"]"
   ]
  },
  {
   "cell_type": "code",
   "execution_count": 22,
   "id": "c25c80de-0a86-4d53-aea7-6d5a4be02e97",
   "metadata": {},
   "outputs": [],
   "source": [
    "sequence2 = [\"four\",\"five\",\"six\"]"
   ]
  },
  {
   "cell_type": "code",
   "execution_count": 24,
   "id": "2f1d7ccd-6698-49c7-9426-6cf1c88c992a",
   "metadata": {},
   "outputs": [],
   "source": [
    "sequence1 = sequence1 + sequence2"
   ]
  },
  {
   "cell_type": "code",
   "execution_count": 25,
   "id": "2578fd49-be97-46e6-bfd2-3a55b185e9b0",
   "metadata": {},
   "outputs": [
    {
     "data": {
      "text/plain": [
       "['one', 'two', 'three', 'four', 'five', 'six']"
      ]
     },
     "execution_count": 25,
     "metadata": {},
     "output_type": "execute_result"
    }
   ],
   "source": [
    "sequence1"
   ]
  },
  {
   "cell_type": "code",
   "execution_count": 26,
   "id": "2daa9ba1-756d-4285-bb1a-66f9f7eab723",
   "metadata": {},
   "outputs": [],
   "source": [
    "# Strings are mutable  "
   ]
  },
  {
   "cell_type": "code",
   "execution_count": 27,
   "id": "d45fd594-7b5c-4bb0-8215-eba78d50225a",
   "metadata": {},
   "outputs": [],
   "source": [
    "sequence1.append('seven')"
   ]
  },
  {
   "cell_type": "code",
   "execution_count": 28,
   "id": "d4faf625-bb39-4093-b85e-7029e07897b3",
   "metadata": {},
   "outputs": [
    {
     "data": {
      "text/plain": [
       "['one', 'two', 'three', 'four', 'five', 'six', 'seven']"
      ]
     },
     "execution_count": 28,
     "metadata": {},
     "output_type": "execute_result"
    }
   ],
   "source": [
    "sequence1"
   ]
  },
  {
   "cell_type": "code",
   "execution_count": 29,
   "id": "700f1a28-8ddc-4675-9832-72a7390a8dc7",
   "metadata": {},
   "outputs": [],
   "source": [
    "# .pop() method of list removes the last object from the list unless a value is passed \n",
    "# which specifies which object o be removed"
   ]
  },
  {
   "cell_type": "code",
   "execution_count": 30,
   "id": "ce626128-731b-4b3b-bcf2-47d9c98f3e41",
   "metadata": {},
   "outputs": [
    {
     "data": {
      "text/plain": [
       "True"
      ]
     },
     "execution_count": 30,
     "metadata": {},
     "output_type": "execute_result"
    }
   ],
   "source": [
    "my_list.pop()"
   ]
  },
  {
   "cell_type": "code",
   "execution_count": 38,
   "id": "95ff5186-96ac-492b-a822-457a1fad5ea9",
   "metadata": {},
   "outputs": [
    {
     "data": {
      "text/plain": [
       "'six'"
      ]
     },
     "execution_count": 38,
     "metadata": {},
     "output_type": "execute_result"
    }
   ],
   "source": [
    "sequence1.pop()"
   ]
  },
  {
   "cell_type": "code",
   "execution_count": 39,
   "id": "6da79e90-f25b-46a6-b339-e12d5840b7ee",
   "metadata": {},
   "outputs": [
    {
     "data": {
      "text/plain": [
       "'four'"
      ]
     },
     "execution_count": 39,
     "metadata": {},
     "output_type": "execute_result"
    }
   ],
   "source": [
    "sequence1.pop(1)"
   ]
  },
  {
   "cell_type": "code",
   "execution_count": 40,
   "id": "92669d2b-325c-42ec-9920-c29cf7db03bd",
   "metadata": {},
   "outputs": [
    {
     "data": {
      "text/plain": [
       "['one', 'five']"
      ]
     },
     "execution_count": 40,
     "metadata": {},
     "output_type": "execute_result"
    }
   ],
   "source": [
    "sequence1"
   ]
  },
  {
   "cell_type": "code",
   "execution_count": 41,
   "id": "6c0d3013-57a5-44f4-9cfe-b1475e0d3f72",
   "metadata": {},
   "outputs": [],
   "source": [
    "# to be on safe side save the popped item in a variable  "
   ]
  },
  {
   "cell_type": "code",
   "execution_count": 42,
   "id": "47ff30e2-3b4a-4112-bd75-c30fdf945707",
   "metadata": {},
   "outputs": [],
   "source": [
    "names = ['Mehdi','Aeylia','Naqi']"
   ]
  },
  {
   "cell_type": "code",
   "execution_count": 43,
   "id": "39ea7f13-61db-4bde-ba13-4b46ebd4e324",
   "metadata": {},
   "outputs": [],
   "source": [
    "names.sort()"
   ]
  },
  {
   "cell_type": "code",
   "execution_count": 44,
   "id": "d751f9aa-05b5-47fa-8373-42e823cac317",
   "metadata": {},
   "outputs": [
    {
     "data": {
      "text/plain": [
       "['Aeylia', 'Mehdi', 'Naqi']"
      ]
     },
     "execution_count": 44,
     "metadata": {},
     "output_type": "execute_result"
    }
   ],
   "source": [
    "names"
   ]
  },
  {
   "cell_type": "code",
   "execution_count": 45,
   "id": "c2d4ffca-7070-4425-9250-620b52ae78c4",
   "metadata": {},
   "outputs": [],
   "source": [
    "# sort() sorts list in alphabetic order and numerically"
   ]
  },
  {
   "cell_type": "code",
   "execution_count": 46,
   "id": "2b581c95-919e-4ce9-83c8-4643c1f07a77",
   "metadata": {},
   "outputs": [],
   "source": [
    "numbers = [10,7,9,5,1,6]"
   ]
  },
  {
   "cell_type": "code",
   "execution_count": 47,
   "id": "bae689f5-e7bf-4344-bd67-af092bf9c65e",
   "metadata": {},
   "outputs": [],
   "source": [
    "numbers.reverse()"
   ]
  },
  {
   "cell_type": "code",
   "execution_count": 48,
   "id": "31e29862-2607-45b8-9040-28c0ab9211d1",
   "metadata": {},
   "outputs": [
    {
     "data": {
      "text/plain": [
       "[6, 1, 5, 9, 7, 10]"
      ]
     },
     "execution_count": 48,
     "metadata": {},
     "output_type": "execute_result"
    }
   ],
   "source": [
    "numbers"
   ]
  },
  {
   "cell_type": "code",
   "execution_count": 49,
   "id": "6a638e0b-f132-4917-a4c2-e9d91f161638",
   "metadata": {},
   "outputs": [
    {
     "name": "stdout",
     "output_type": "stream",
     "text": [
      "None\n"
     ]
    }
   ],
   "source": [
    "print(numbers.sort())"
   ]
  },
  {
   "cell_type": "code",
   "execution_count": 50,
   "id": "7426a562-e3c8-4dca-a9af-911edd528815",
   "metadata": {},
   "outputs": [],
   "source": [
    "numbers.sort()"
   ]
  },
  {
   "cell_type": "code",
   "execution_count": 51,
   "id": "4f2de1e4-9868-4ece-a528-6a21ce0fa0a9",
   "metadata": {},
   "outputs": [
    {
     "data": {
      "text/plain": [
       "[1, 5, 6, 7, 9, 10]"
      ]
     },
     "execution_count": 51,
     "metadata": {},
     "output_type": "execute_result"
    }
   ],
   "source": [
    "numbers"
   ]
  },
  {
   "cell_type": "code",
   "execution_count": 53,
   "id": "10689b31-3a84-4376-998a-f9532c1f1011",
   "metadata": {},
   "outputs": [],
   "source": [
    "None # it is used whole values"
   ]
  },
  {
   "cell_type": "code",
   "execution_count": 54,
   "id": "06fbdae8-3ffc-43a3-8a52-56f9968fc057",
   "metadata": {},
   "outputs": [],
   "source": [
    "new_sorted_list = numbers"
   ]
  },
  {
   "cell_type": "code",
   "execution_count": 55,
   "id": "ac206ebe-998c-4efb-8451-4de4fe7baec6",
   "metadata": {},
   "outputs": [
    {
     "data": {
      "text/plain": [
       "[1, 5, 6, 7, 9, 10]"
      ]
     },
     "execution_count": 55,
     "metadata": {},
     "output_type": "execute_result"
    }
   ],
   "source": [
    "new_sorted_list"
   ]
  },
  {
   "cell_type": "code",
   "execution_count": 56,
   "id": "68d58747-3065-461e-8c14-83e36e1696e3",
   "metadata": {},
   "outputs": [],
   "source": [
    "new_sorted_list.reverse()"
   ]
  },
  {
   "cell_type": "code",
   "execution_count": 57,
   "id": "7b756330-1cb0-4619-af76-be474e24fc96",
   "metadata": {},
   "outputs": [
    {
     "data": {
      "text/plain": [
       "[10, 9, 7, 6, 5, 1]"
      ]
     },
     "execution_count": 57,
     "metadata": {},
     "output_type": "execute_result"
    }
   ],
   "source": [
    "new_sorted_list"
   ]
  },
  {
   "cell_type": "code",
   "execution_count": 58,
   "id": "d879519f-d3cd-47ea-9af8-c06bf6881e3f",
   "metadata": {},
   "outputs": [],
   "source": [
    "new_sorted_list.remove(1)"
   ]
  },
  {
   "cell_type": "code",
   "execution_count": 59,
   "id": "c143d134-ff14-4589-bd82-b4ec751caacd",
   "metadata": {},
   "outputs": [
    {
     "data": {
      "text/plain": [
       "[10, 9, 7, 6, 5]"
      ]
     },
     "execution_count": 59,
     "metadata": {},
     "output_type": "execute_result"
    }
   ],
   "source": [
    "new_sorted_list"
   ]
  },
  {
   "cell_type": "markdown",
   "id": "f6a652e2-7206-48aa-98ad-db6d971eb99e",
   "metadata": {},
   "source": [
    "# Functions to remove objects from list\n",
    "1. .pop() : removes objects from the end of list or specify a index\n",
    "2. .remove() : removes object which is specified"
   ]
  },
  {
   "cell_type": "code",
   "execution_count": 61,
   "id": "47ca9346-5fe7-4030-8f05-bc6eada1381e",
   "metadata": {},
   "outputs": [],
   "source": [
    "# .sort(),.remove() ,.pop() ,.insert() ,len() , .append(),.reverse"
   ]
  },
  {
   "cell_type": "code",
   "execution_count": 1,
   "id": "223bc7d5-730b-4d0c-9bf8-a29af5e8b097",
   "metadata": {},
   "outputs": [],
   "source": [
    "num = [1,2,4,5,6,4,7,10]"
   ]
  },
  {
   "cell_type": "code",
   "execution_count": 2,
   "id": "5ce058f8-eb93-4cfc-a80b-09148c1c80e8",
   "metadata": {},
   "outputs": [],
   "source": [
    "num.sort()"
   ]
  },
  {
   "cell_type": "code",
   "execution_count": 3,
   "id": "8d8939af-b1e4-4664-a1fb-e58900ba5583",
   "metadata": {},
   "outputs": [
    {
     "data": {
      "text/plain": [
       "[1, 2, 4, 4, 5, 6, 7, 10]"
      ]
     },
     "execution_count": 3,
     "metadata": {},
     "output_type": "execute_result"
    }
   ],
   "source": [
    "num"
   ]
  },
  {
   "cell_type": "code",
   "execution_count": 4,
   "id": "26b57987-02bc-403c-a25a-751231cc0bce",
   "metadata": {},
   "outputs": [],
   "source": [
    "num.reverse()"
   ]
  },
  {
   "cell_type": "code",
   "execution_count": 5,
   "id": "26931062-b454-4dab-979a-248ba63ce44b",
   "metadata": {},
   "outputs": [
    {
     "data": {
      "text/plain": [
       "[10, 7, 6, 5, 4, 4, 2, 1]"
      ]
     },
     "execution_count": 5,
     "metadata": {},
     "output_type": "execute_result"
    }
   ],
   "source": [
    "num"
   ]
  },
  {
   "cell_type": "code",
   "execution_count": null,
   "id": "02d568d2-6954-4b6f-aab0-7b465e60f188",
   "metadata": {},
   "outputs": [],
   "source": []
  }
 ],
 "metadata": {
  "kernelspec": {
   "display_name": "Python 3 (ipykernel)",
   "language": "python",
   "name": "python3"
  },
  "language_info": {
   "codemirror_mode": {
    "name": "ipython",
    "version": 3
   },
   "file_extension": ".py",
   "mimetype": "text/x-python",
   "name": "python",
   "nbconvert_exporter": "python",
   "pygments_lexer": "ipython3",
   "version": "3.11.4"
  }
 },
 "nbformat": 4,
 "nbformat_minor": 5
}
