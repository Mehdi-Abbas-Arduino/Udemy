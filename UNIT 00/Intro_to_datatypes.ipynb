{
 "cells": [
  {
   "cell_type": "markdown",
   "id": "dc948539-877b-46a1-89ae-e0b77511fa67",
   "metadata": {},
   "source": [
    "# Numbers"
   ]
  },
  {
   "cell_type": "code",
   "execution_count": 1,
   "id": "1b0bacf0-d200-4c00-b0fc-32ab3c369af2",
   "metadata": {},
   "outputs": [],
   "source": [
    "a = 7%2"
   ]
  },
  {
   "cell_type": "code",
   "execution_count": 2,
   "id": "88a549ae-9a8d-4080-aa88-8577d65e539c",
   "metadata": {},
   "outputs": [
    {
     "data": {
      "text/plain": [
       "1"
      ]
     },
     "execution_count": 2,
     "metadata": {},
     "output_type": "execute_result"
    }
   ],
   "source": [
    "a"
   ]
  },
  {
   "cell_type": "markdown",
   "id": "9f58f09e-1278-4739-a5e7-b0a1e9d748af",
   "metadata": {},
   "source": [
    "# BODMAS"
   ]
  },
  {
   "cell_type": "code",
   "execution_count": 1,
   "id": "8a9e909e-0c32-482c-a717-319874431b22",
   "metadata": {},
   "outputs": [
    {
     "data": {
      "text/plain": [
       "105"
      ]
     },
     "execution_count": 1,
     "metadata": {},
     "output_type": "execute_result"
    }
   ],
   "source": [
    "2+10*10+3"
   ]
  },
  {
   "cell_type": "code",
   "execution_count": 2,
   "id": "377d6ae6-a648-470b-aa01-96f749092790",
   "metadata": {},
   "outputs": [
    {
     "name": "stdout",
     "output_type": "stream",
     "text": [
      "100\n"
     ]
    }
   ],
   "source": [
    "print(25*4)"
   ]
  },
  {
   "cell_type": "code",
   "execution_count": 3,
   "id": "c891bbd7-d516-4e31-b343-c909c87e7287",
   "metadata": {},
   "outputs": [],
   "source": [
    "a = 1/2"
   ]
  },
  {
   "cell_type": "code",
   "execution_count": 4,
   "id": "987e80ef-63e6-405e-a90e-84819458f90e",
   "metadata": {},
   "outputs": [
    {
     "data": {
      "text/plain": [
       "0.5"
      ]
     },
     "execution_count": 4,
     "metadata": {},
     "output_type": "execute_result"
    }
   ],
   "source": [
    "a"
   ]
  },
  {
   "cell_type": "code",
   "execution_count": 5,
   "id": "aaef576e-25d4-4caa-908c-6e2494bb40d5",
   "metadata": {},
   "outputs": [
    {
     "data": {
      "text/plain": [
       "float"
      ]
     },
     "execution_count": 5,
     "metadata": {},
     "output_type": "execute_result"
    }
   ],
   "source": [
    "type(a)"
   ]
  },
  {
   "cell_type": "code",
   "execution_count": 6,
   "id": "03bc9499-e5a3-4c74-97f5-3a44fb99fdbb",
   "metadata": {},
   "outputs": [
    {
     "data": {
      "text/plain": [
       "2881678799280"
      ]
     },
     "execution_count": 6,
     "metadata": {},
     "output_type": "execute_result"
    }
   ],
   "source": [
    "id(a)"
   ]
  },
  {
   "cell_type": "code",
   "execution_count": null,
   "id": "605b80db-7166-4186-af30-511bece19cdd",
   "metadata": {},
   "outputs": [],
   "source": []
  }
 ],
 "metadata": {
  "kernelspec": {
   "display_name": "Python 3 (ipykernel)",
   "language": "python",
   "name": "python3"
  },
  "language_info": {
   "codemirror_mode": {
    "name": "ipython",
    "version": 3
   },
   "file_extension": ".py",
   "mimetype": "text/x-python",
   "name": "python",
   "nbconvert_exporter": "python",
   "pygments_lexer": "ipython3",
   "version": "3.11.4"
  }
 },
 "nbformat": 4,
 "nbformat_minor": 5
}
