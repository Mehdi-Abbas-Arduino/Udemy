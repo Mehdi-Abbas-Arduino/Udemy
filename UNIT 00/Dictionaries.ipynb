{
 "cells": [
  {
   "cell_type": "code",
   "execution_count": 1,
   "id": "ad925ecd-1a40-410d-9008-d5e6f15e4385",
   "metadata": {},
   "outputs": [],
   "source": [
    "# Dictionaries uses key value pairs and {}"
   ]
  },
  {
   "cell_type": "code",
   "execution_count": 2,
   "id": "e856f17b-c389-4a0e-966a-e157d8589714",
   "metadata": {},
   "outputs": [],
   "source": [
    "# It is unordered and can not be sorted"
   ]
  },
  {
   "cell_type": "code",
   "execution_count": 3,
   "id": "57291201-fd14-4fc7-88f1-7795966f3249",
   "metadata": {},
   "outputs": [],
   "source": [
    "my_dict = {\"key1\":\"value1\",\n",
    "          \"key2\":\"value2\",}"
   ]
  },
  {
   "cell_type": "code",
   "execution_count": 4,
   "id": "0bcda5e8-4ed7-49b8-abdd-935c8dc30ede",
   "metadata": {},
   "outputs": [
    {
     "data": {
      "text/plain": [
       "{'key1': 'value1', 'key2': 'value2'}"
      ]
     },
     "execution_count": 4,
     "metadata": {},
     "output_type": "execute_result"
    }
   ],
   "source": [
    "my_dict"
   ]
  },
  {
   "cell_type": "code",
   "execution_count": 6,
   "id": "080aaac1-06db-419d-91b7-d31dc6af19e4",
   "metadata": {},
   "outputs": [
    {
     "data": {
      "text/plain": [
       "'value1'"
      ]
     },
     "execution_count": 6,
     "metadata": {},
     "output_type": "execute_result"
    }
   ],
   "source": [
    "my_dict['key1']"
   ]
  },
  {
   "cell_type": "code",
   "execution_count": 3,
   "id": "15e71e22-283b-4fff-b7d7-1624608f00c1",
   "metadata": {},
   "outputs": [],
   "source": [
    "d = {\"k1\":123,\"k2\":[1,2,3],\"k3\":{'inside':100}}"
   ]
  },
  {
   "cell_type": "code",
   "execution_count": 4,
   "id": "89c0aeb5",
   "metadata": {},
   "outputs": [
    {
     "data": {
      "text/plain": [
       "{'k1': 123, 'k2': [1, 2, 3], 'k3': {'inside': 100}}"
      ]
     },
     "execution_count": 4,
     "metadata": {},
     "output_type": "execute_result"
    }
   ],
   "source": [
    "d"
   ]
  },
  {
   "cell_type": "code",
   "execution_count": 5,
   "id": "1f9dee69",
   "metadata": {},
   "outputs": [
    {
     "data": {
      "text/plain": [
       "{'inside': 100}"
      ]
     },
     "execution_count": 5,
     "metadata": {},
     "output_type": "execute_result"
    }
   ],
   "source": [
    "d[\"k3\"]"
   ]
  },
  {
   "cell_type": "code",
   "execution_count": 6,
   "id": "2feec32d",
   "metadata": {},
   "outputs": [
    {
     "data": {
      "text/plain": [
       "100"
      ]
     },
     "execution_count": 6,
     "metadata": {},
     "output_type": "execute_result"
    }
   ],
   "source": [
    "d['k3'][\"inside\"]"
   ]
  },
  {
   "cell_type": "code",
   "execution_count": 8,
   "id": "a3003af7",
   "metadata": {},
   "outputs": [],
   "source": [
    "a = [1,2,4,[5,8,9]]"
   ]
  },
  {
   "cell_type": "code",
   "execution_count": 15,
   "id": "4cc36d61",
   "metadata": {},
   "outputs": [
    {
     "data": {
      "text/plain": [
       "9"
      ]
     },
     "execution_count": 15,
     "metadata": {},
     "output_type": "execute_result"
    }
   ],
   "source": [
    "# First comes the index and after that the list number \n",
    "a[3][2]"
   ]
  },
  {
   "cell_type": "code",
   "execution_count": 16,
   "id": "836dbb9f",
   "metadata": {},
   "outputs": [
    {
     "data": {
      "text/plain": [
       "2"
      ]
     },
     "execution_count": 16,
     "metadata": {},
     "output_type": "execute_result"
    }
   ],
   "source": [
    "d['k2'][1]"
   ]
  },
  {
   "cell_type": "code",
   "execution_count": 19,
   "id": "28f73c58",
   "metadata": {},
   "outputs": [
    {
     "data": {
      "text/plain": [
       "{'key1': ['a', 'b', 'c', ['d', 'e', 'f', 'g']]}"
      ]
     },
     "execution_count": 19,
     "metadata": {},
     "output_type": "execute_result"
    }
   ],
   "source": [
    "diction = {'key1':['a','b','c',['d','e','f','g']]}\n",
    "diction"
   ]
  },
  {
   "cell_type": "code",
   "execution_count": 20,
   "id": "a49784bf",
   "metadata": {},
   "outputs": [
    {
     "data": {
      "text/plain": [
       "['a', 'b', 'c', ['d', 'e', 'f', 'g']]"
      ]
     },
     "execution_count": 20,
     "metadata": {},
     "output_type": "execute_result"
    }
   ],
   "source": [
    "diction['key1']"
   ]
  },
  {
   "cell_type": "code",
   "execution_count": 23,
   "id": "d48a2600",
   "metadata": {},
   "outputs": [],
   "source": [
    "dic = diction[\"key1\"][3][2]"
   ]
  },
  {
   "cell_type": "code",
   "execution_count": 24,
   "id": "f7d995c4",
   "metadata": {},
   "outputs": [
    {
     "data": {
      "text/plain": [
       "'F'"
      ]
     },
     "execution_count": 24,
     "metadata": {},
     "output_type": "execute_result"
    }
   ],
   "source": [
    "dic.upper()"
   ]
  },
  {
   "cell_type": "code",
   "execution_count": 25,
   "id": "e6c41bca",
   "metadata": {},
   "outputs": [
    {
     "data": {
      "text/plain": [
       "'f'"
      ]
     },
     "execution_count": 25,
     "metadata": {},
     "output_type": "execute_result"
    }
   ],
   "source": [
    "dic"
   ]
  },
  {
   "cell_type": "code",
   "execution_count": 26,
   "id": "2917e78f",
   "metadata": {},
   "outputs": [
    {
     "name": "stdout",
     "output_type": "stream",
     "text": [
      "{'Apple': 'Friut', 'Carrot': 'Vegetable', 'Nike': 'Shoes'}\n"
     ]
    }
   ],
   "source": [
    "di = {\n",
    "    \"Apple\":\"Friut\",\n",
    "    \"Carrot\":\"Vegetable\",\n",
    "    \"Nike\":\"Shoes\"\n",
    "}\n",
    "print(di)"
   ]
  },
  {
   "cell_type": "code",
   "execution_count": 27,
   "id": "9280f738",
   "metadata": {},
   "outputs": [],
   "source": [
    "di['Addidas'] = \"Shoes\""
   ]
  },
  {
   "cell_type": "code",
   "execution_count": 28,
   "id": "8b3374fd",
   "metadata": {},
   "outputs": [
    {
     "data": {
      "text/plain": [
       "{'Apple': 'Friut', 'Carrot': 'Vegetable', 'Nike': 'Shoes', 'Addidas': 'Shoes'}"
      ]
     },
     "execution_count": 28,
     "metadata": {},
     "output_type": "execute_result"
    }
   ],
   "source": [
    "di"
   ]
  },
  {
   "cell_type": "code",
   "execution_count": 29,
   "id": "826b24ac",
   "metadata": {},
   "outputs": [
    {
     "data": {
      "text/plain": [
       "'Friut'"
      ]
     },
     "execution_count": 29,
     "metadata": {},
     "output_type": "execute_result"
    }
   ],
   "source": [
    "di[\"Apple\"]"
   ]
  },
  {
   "cell_type": "code",
   "execution_count": 32,
   "id": "703ce967",
   "metadata": {},
   "outputs": [],
   "source": [
    "di['Fruit'] = 'Bannana'"
   ]
  },
  {
   "cell_type": "code",
   "execution_count": 33,
   "id": "cac2c5fc",
   "metadata": {},
   "outputs": [
    {
     "data": {
      "text/plain": [
       "{'Apple': 'Friut',\n",
       " 'Carrot': 'Vegetable',\n",
       " 'Nike': 'Shoes',\n",
       " 'Addidas': 'Shoes',\n",
       " 'Fruits': 'Bannana',\n",
       " 'Fruit': 'Bannana'}"
      ]
     },
     "execution_count": 33,
     "metadata": {},
     "output_type": "execute_result"
    }
   ],
   "source": [
    "di"
   ]
  },
  {
   "cell_type": "code",
   "execution_count": 34,
   "id": "89f684f5",
   "metadata": {},
   "outputs": [],
   "source": [
    "di['Apple'] = 'Fruits'"
   ]
  },
  {
   "cell_type": "code",
   "execution_count": 35,
   "id": "18415423",
   "metadata": {},
   "outputs": [
    {
     "data": {
      "text/plain": [
       "{'Apple': 'Fruits',\n",
       " 'Carrot': 'Vegetable',\n",
       " 'Nike': 'Shoes',\n",
       " 'Addidas': 'Shoes',\n",
       " 'Fruits': 'Bannana',\n",
       " 'Fruit': 'Bannana'}"
      ]
     },
     "execution_count": 35,
     "metadata": {},
     "output_type": "execute_result"
    }
   ],
   "source": [
    "di"
   ]
  },
  {
   "cell_type": "code",
   "execution_count": 36,
   "id": "5e4ac333",
   "metadata": {},
   "outputs": [
    {
     "data": {
      "text/plain": [
       "{'Apple': 'Fruits',\n",
       " 'Carrot': 'Vegetable',\n",
       " 'Nike': 'Shoes',\n",
       " 'Addidas': 'Shoes',\n",
       " 'Fruits': 'Bannana',\n",
       " 'Fruit': 'Bannana'}"
      ]
     },
     "execution_count": 36,
     "metadata": {},
     "output_type": "execute_result"
    }
   ],
   "source": [
    "di"
   ]
  },
  {
   "cell_type": "markdown",
   "id": "9b20c1ae",
   "metadata": {},
   "source": [
    "# Methods on dictionary"
   ]
  },
  {
   "cell_type": "code",
   "execution_count": 38,
   "id": "58a1f41f",
   "metadata": {},
   "outputs": [
    {
     "data": {
      "text/plain": [
       "dict_keys(['Apple', 'Carrot', 'Nike', 'Addidas', 'Fruits', 'Fruit'])"
      ]
     },
     "execution_count": 38,
     "metadata": {},
     "output_type": "execute_result"
    }
   ],
   "source": [
    "di.keys()"
   ]
  },
  {
   "cell_type": "code",
   "execution_count": 39,
   "id": "4151dbaf",
   "metadata": {},
   "outputs": [
    {
     "data": {
      "text/plain": [
       "dict_values(['Fruits', 'Vegetable', 'Shoes', 'Shoes', 'Bannana', 'Bannana'])"
      ]
     },
     "execution_count": 39,
     "metadata": {},
     "output_type": "execute_result"
    }
   ],
   "source": [
    "di.values()"
   ]
  },
  {
   "cell_type": "code",
   "execution_count": 40,
   "id": "5837a6c5",
   "metadata": {},
   "outputs": [
    {
     "data": {
      "text/plain": [
       "dict_items([('k1', 123), ('k2', [1, 2, 3]), ('k3', {'inside': 100})])"
      ]
     },
     "execution_count": 40,
     "metadata": {},
     "output_type": "execute_result"
    }
   ],
   "source": [
    "d.items()"
   ]
  },
  {
   "cell_type": "code",
   "execution_count": 42,
   "id": "19c69544",
   "metadata": {},
   "outputs": [
    {
     "data": {
      "text/plain": [
       "{'inside': 100}"
      ]
     },
     "execution_count": 42,
     "metadata": {},
     "output_type": "execute_result"
    }
   ],
   "source": [
    "d.pop('k3')"
   ]
  },
  {
   "cell_type": "code",
   "execution_count": 43,
   "id": "e4c27596",
   "metadata": {},
   "outputs": [
    {
     "data": {
      "text/plain": [
       "{'k1': 123, 'k2': [1, 2, 3]}"
      ]
     },
     "execution_count": 43,
     "metadata": {},
     "output_type": "execute_result"
    }
   ],
   "source": [
    "d"
   ]
  },
  {
   "cell_type": "code",
   "execution_count": 1,
   "id": "975312e8",
   "metadata": {},
   "outputs": [],
   "source": [
    "var_brands = {\n",
    "    \"Zara\":\"Clothes\",\n",
    "    \"Louis Vuitton\":\"Clothes\",\n",
    "    \"BMW\":\"car\",\n",
    "}"
   ]
  },
  {
   "cell_type": "code",
   "execution_count": 2,
   "id": "ecc01ed4",
   "metadata": {},
   "outputs": [
    {
     "data": {
      "text/plain": [
       "{'Zara': 'Clothes', 'Louis Vuitton': 'Clothes', 'BMW': 'car'}"
      ]
     },
     "execution_count": 2,
     "metadata": {},
     "output_type": "execute_result"
    }
   ],
   "source": [
    "var_brands"
   ]
  },
  {
   "cell_type": "code",
   "execution_count": 3,
   "id": "e065b109",
   "metadata": {},
   "outputs": [],
   "source": [
    "var_brands['Audi'] = \"Clothes\""
   ]
  },
  {
   "cell_type": "code",
   "execution_count": 4,
   "id": "2d4be543",
   "metadata": {},
   "outputs": [
    {
     "data": {
      "text/plain": [
       "{'Zara': 'Clothes',\n",
       " 'Louis Vuitton': 'Clothes',\n",
       " 'BMW': 'car',\n",
       " 'Audi': 'Clothes'}"
      ]
     },
     "execution_count": 4,
     "metadata": {},
     "output_type": "execute_result"
    }
   ],
   "source": [
    "var_brands\n"
   ]
  },
  {
   "cell_type": "code",
   "execution_count": 5,
   "id": "58317557",
   "metadata": {},
   "outputs": [
    {
     "data": {
      "text/plain": [
       "dict_keys(['Zara', 'Louis Vuitton', 'BMW', 'Audi'])"
      ]
     },
     "execution_count": 5,
     "metadata": {},
     "output_type": "execute_result"
    }
   ],
   "source": [
    "var_brands.keys()"
   ]
  },
  {
   "cell_type": "code",
   "execution_count": 6,
   "id": "4ad80394",
   "metadata": {},
   "outputs": [
    {
     "data": {
      "text/plain": [
       "dict_values(['Clothes', 'Clothes', 'car', 'Clothes'])"
      ]
     },
     "execution_count": 6,
     "metadata": {},
     "output_type": "execute_result"
    }
   ],
   "source": [
    "var_brands.values()"
   ]
  },
  {
   "cell_type": "code",
   "execution_count": 7,
   "id": "4bf0a52b",
   "metadata": {},
   "outputs": [
    {
     "data": {
      "text/plain": [
       "dict_items([('Zara', 'Clothes'), ('Louis Vuitton', 'Clothes'), ('BMW', 'car'), ('Audi', 'Clothes')])"
      ]
     },
     "execution_count": 7,
     "metadata": {},
     "output_type": "execute_result"
    }
   ],
   "source": [
    "var_brands.items()"
   ]
  },
  {
   "cell_type": "code",
   "execution_count": 9,
   "id": "b44b4097",
   "metadata": {},
   "outputs": [
    {
     "data": {
      "text/plain": [
       "'Clothes'"
      ]
     },
     "execution_count": 9,
     "metadata": {},
     "output_type": "execute_result"
    }
   ],
   "source": [
    "var_brands.pop(\"Zara\")"
   ]
  },
  {
   "cell_type": "code",
   "execution_count": 6,
   "id": "0151e53a",
   "metadata": {},
   "outputs": [],
   "source": [
    "Mov_chars = {\"Satya\":[\"Kallu Mama\",\"Satya\",\"Biku Matray\"]}"
   ]
  },
  {
   "cell_type": "code",
   "execution_count": 7,
   "id": "feb5359e",
   "metadata": {},
   "outputs": [
    {
     "data": {
      "text/plain": [
       "['Kallu Mama', 'Satya', 'Biku Matray']"
      ]
     },
     "execution_count": 7,
     "metadata": {},
     "output_type": "execute_result"
    }
   ],
   "source": [
    "Mov_chars['Satya']"
   ]
  },
  {
   "cell_type": "code",
   "execution_count": 8,
   "id": "a7dcbd02",
   "metadata": {},
   "outputs": [
    {
     "data": {
      "text/plain": [
       "'Biku Matray'"
      ]
     },
     "execution_count": 8,
     "metadata": {},
     "output_type": "execute_result"
    }
   ],
   "source": [
    "Mov_chars['Satya'][2]"
   ]
  },
  {
   "cell_type": "code",
   "execution_count": 10,
   "id": "eea14029",
   "metadata": {},
   "outputs": [],
   "source": [
    "Mov_chars['Satya'].append(\"Bhau\")"
   ]
  },
  {
   "cell_type": "code",
   "execution_count": 11,
   "id": "5e55e8d3",
   "metadata": {},
   "outputs": [
    {
     "data": {
      "text/plain": [
       "{'Satya': ['Kallu Mama', 'Satya', 'Biku Matray', 'Bhau']}"
      ]
     },
     "execution_count": 11,
     "metadata": {},
     "output_type": "execute_result"
    }
   ],
   "source": [
    "Mov_chars"
   ]
  },
  {
   "cell_type": "code",
   "execution_count": 12,
   "id": "51d322b5",
   "metadata": {},
   "outputs": [
    {
     "data": {
      "text/plain": [
       "dict_items([('Satya', ['Kallu Mama', 'Satya', 'Biku Matray', 'Bhau'])])"
      ]
     },
     "execution_count": 12,
     "metadata": {},
     "output_type": "execute_result"
    }
   ],
   "source": [
    "Mov_chars.items()"
   ]
  },
  {
   "cell_type": "code",
   "execution_count": 13,
   "id": "f3f4bc98",
   "metadata": {},
   "outputs": [
    {
     "data": {
      "text/plain": [
       "dict_keys(['Satya'])"
      ]
     },
     "execution_count": 13,
     "metadata": {},
     "output_type": "execute_result"
    }
   ],
   "source": [
    "Mov_chars.keys()"
   ]
  },
  {
   "cell_type": "code",
   "execution_count": 14,
   "id": "2df4f3a7",
   "metadata": {},
   "outputs": [
    {
     "data": {
      "text/plain": [
       "dict_values([['Kallu Mama', 'Satya', 'Biku Matray', 'Bhau']])"
      ]
     },
     "execution_count": 14,
     "metadata": {},
     "output_type": "execute_result"
    }
   ],
   "source": [
    "Mov_chars.values()"
   ]
  },
  {
   "cell_type": "code",
   "execution_count": 15,
   "id": "c5f90770",
   "metadata": {},
   "outputs": [
    {
     "data": {
      "text/plain": [
       "'Bhau'"
      ]
     },
     "execution_count": 15,
     "metadata": {},
     "output_type": "execute_result"
    }
   ],
   "source": [
    "Mov_chars['Satya'].pop()"
   ]
  },
  {
   "cell_type": "code",
   "execution_count": 16,
   "id": "fa1e5834",
   "metadata": {},
   "outputs": [
    {
     "data": {
      "text/plain": [
       "'Kallu Mama'"
      ]
     },
     "execution_count": 16,
     "metadata": {},
     "output_type": "execute_result"
    }
   ],
   "source": [
    "Mov_chars['Satya'].pop(0)"
   ]
  },
  {
   "cell_type": "code",
   "execution_count": 17,
   "id": "6000cd1d",
   "metadata": {},
   "outputs": [
    {
     "data": {
      "text/plain": [
       "{'Satya': ['Satya', 'Biku Matray']}"
      ]
     },
     "execution_count": 17,
     "metadata": {},
     "output_type": "execute_result"
    }
   ],
   "source": [
    "Mov_chars"
   ]
  },
  {
   "cell_type": "code",
   "execution_count": null,
   "id": "eda2d054",
   "metadata": {},
   "outputs": [],
   "source": []
  }
 ],
 "metadata": {
  "kernelspec": {
   "display_name": "Python 3 (ipykernel)",
   "language": "python",
   "name": "python3"
  },
  "language_info": {
   "codemirror_mode": {
    "name": "ipython",
    "version": 3
   },
   "file_extension": ".py",
   "mimetype": "text/x-python",
   "name": "python",
   "nbconvert_exporter": "python",
   "pygments_lexer": "ipython3",
   "version": "3.11.5"
  }
 },
 "nbformat": 4,
 "nbformat_minor": 5
}
