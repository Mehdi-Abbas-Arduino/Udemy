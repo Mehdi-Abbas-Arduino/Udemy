{
 "cells": [
  {
   "cell_type": "code",
   "execution_count": 3,
   "id": "7de58b51-d742-4375-9e27-b89b8695f47a",
   "metadata": {},
   "outputs": [
    {
     "data": {
      "text/plain": [
       "'H'"
      ]
     },
     "execution_count": 3,
     "metadata": {},
     "output_type": "execute_result"
    }
   ],
   "source": [
    "a = \"Hello\"\n",
    "a[-5]"
   ]
  },
  {
   "cell_type": "code",
   "execution_count": 2,
   "id": "0f74bc81-9df4-45e1-aa6c-bb86beaa20dc",
   "metadata": {},
   "outputs": [
    {
     "data": {
      "text/plain": [
       "' uoy era woh enoyreve olleH'"
      ]
     },
     "execution_count": 2,
     "metadata": {},
     "output_type": "execute_result"
    }
   ],
   "source": [
    "quote = \"Hello everyone how are you \"\n",
    "quote[::-1]"
   ]
  },
  {
   "cell_type": "code",
   "execution_count": 5,
   "id": "4bbb3ebb-77ba-4d15-841e-ad30ce0c8bc1",
   "metadata": {},
   "outputs": [],
   "source": [
    "# \\n creates a new line "
   ]
  },
  {
   "cell_type": "code",
   "execution_count": 6,
   "id": "419a8569-5b67-419b-b960-fe82b70fe1e2",
   "metadata": {},
   "outputs": [
    {
     "data": {
      "text/plain": [
       "27"
      ]
     },
     "execution_count": 6,
     "metadata": {},
     "output_type": "execute_result"
    }
   ],
   "source": [
    "len(quote)"
   ]
  },
  {
   "cell_type": "code",
   "execution_count": 7,
   "id": "4ce3845e-0ef9-4807-9a9c-229c12178ee1",
   "metadata": {},
   "outputs": [
    {
     "data": {
      "text/plain": [
       "'HELLO EVERYONE HOW ARE YOU '"
      ]
     },
     "execution_count": 7,
     "metadata": {},
     "output_type": "execute_result"
    }
   ],
   "source": [
    "quote.upper()"
   ]
  },
  {
   "cell_type": "code",
   "execution_count": 8,
   "id": "91005f67-a9af-4fe1-9b52-557b763b1839",
   "metadata": {},
   "outputs": [
    {
     "data": {
      "text/plain": [
       "'hello everyone how are you '"
      ]
     },
     "execution_count": 8,
     "metadata": {},
     "output_type": "execute_result"
    }
   ],
   "source": [
    "quote.lower()"
   ]
  },
  {
   "cell_type": "markdown",
   "id": "f287f2f8-6664-409d-8185-1a7d0316ffbb",
   "metadata": {},
   "source": [
    "# String Indexing"
   ]
  },
  {
   "cell_type": "code",
   "execution_count": 9,
   "id": "dc70724e-8d0f-4300-a655-9f062cef5cd5",
   "metadata": {},
   "outputs": [
    {
     "data": {
      "text/plain": [
       "'e'"
      ]
     },
     "execution_count": 9,
     "metadata": {},
     "output_type": "execute_result"
    }
   ],
   "source": [
    "quote[6]"
   ]
  },
  {
   "cell_type": "code",
   "execution_count": 10,
   "id": "ee73d119-3ddc-40b8-9681-4b29b8a9f895",
   "metadata": {},
   "outputs": [
    {
     "data": {
      "text/plain": [
       "'a'"
      ]
     },
     "execution_count": 10,
     "metadata": {},
     "output_type": "execute_result"
    }
   ],
   "source": [
    "quote[-8]"
   ]
  },
  {
   "cell_type": "code",
   "execution_count": 11,
   "id": "0fef7366-de66-41e9-b17d-ecc0839a309d",
   "metadata": {},
   "outputs": [],
   "source": [
    "# In the stop position give a number above "
   ]
  },
  {
   "cell_type": "code",
   "execution_count": 12,
   "id": "99904e46-f9b8-4e22-a0bb-b5d5768eb9ae",
   "metadata": {},
   "outputs": [],
   "source": [
    "#  To reverse a string turn the step in negative"
   ]
  },
  {
   "cell_type": "code",
   "execution_count": 13,
   "id": "1f9dd9fa-acad-4f1f-8115-623c4a117338",
   "metadata": {},
   "outputs": [
    {
     "data": {
      "text/plain": [
       "' uoy era woh enoyreve olleH'"
      ]
     },
     "execution_count": 13,
     "metadata": {},
     "output_type": "execute_result"
    }
   ],
   "source": [
    "quote[::-1]"
   ]
  },
  {
   "cell_type": "code",
   "execution_count": 16,
   "id": "57c4a0fd-7785-43fb-8fbe-7bb3c19b32af",
   "metadata": {},
   "outputs": [
    {
     "name": "stdout",
     "output_type": "stream",
     "text": [
      "r\n"
     ]
    }
   ],
   "source": [
    "print('Hello World'[8])"
   ]
  },
  {
   "cell_type": "markdown",
   "id": "df3c64b1-b186-4b19-981d-1cc391612db2",
   "metadata": {},
   "source": [
    "## String Properties and Methods "
   ]
  },
  {
   "cell_type": "code",
   "execution_count": 17,
   "id": "2124e56b-af1a-44b8-a49c-37c26dda37ce",
   "metadata": {},
   "outputs": [],
   "source": [
    "# Strings are immutable"
   ]
  },
  {
   "cell_type": "code",
   "execution_count": 18,
   "id": "d591acf4-1398-4ea0-981b-26bcdf59b616",
   "metadata": {},
   "outputs": [
    {
     "ename": "TypeError",
     "evalue": "'str' object does not support item assignment",
     "output_type": "error",
     "traceback": [
      "\u001b[1;31m---------------------------------------------------------------------------\u001b[0m",
      "\u001b[1;31mTypeError\u001b[0m                                 Traceback (most recent call last)",
      "Cell \u001b[1;32mIn[18], line 1\u001b[0m\n\u001b[1;32m----> 1\u001b[0m \u001b[43mquote\u001b[49m\u001b[43m[\u001b[49m\u001b[38;5;241;43m5\u001b[39;49m\u001b[43m]\u001b[49m \u001b[38;5;241m=\u001b[39m \u001b[38;5;124m\"\u001b[39m\u001b[38;5;124mMehdi\u001b[39m\u001b[38;5;124m\"\u001b[39m\n",
      "\u001b[1;31mTypeError\u001b[0m: 'str' object does not support item assignment"
     ]
    }
   ],
   "source": [
    "quote[5] = \"Mehdi\""
   ]
  },
  {
   "cell_type": "code",
   "execution_count": 19,
   "id": "e22fb810-bf69-4578-877b-bdcbbc13bb2d",
   "metadata": {},
   "outputs": [],
   "source": [
    "name = \"Sam\""
   ]
  },
  {
   "cell_type": "code",
   "execution_count": 20,
   "id": "69a4d682-d7ed-4b5b-93c8-be660124fed8",
   "metadata": {},
   "outputs": [],
   "source": [
    "last_letter = name[1:]"
   ]
  },
  {
   "cell_type": "code",
   "execution_count": 21,
   "id": "2e52238a-6883-408c-af49-2b364848a080",
   "metadata": {},
   "outputs": [],
   "source": [
    "full_name = 'P'+last_letter"
   ]
  },
  {
   "cell_type": "code",
   "execution_count": 22,
   "id": "d8ecd9a4-c449-4b89-9e16-bf61fbbca571",
   "metadata": {},
   "outputs": [
    {
     "data": {
      "text/plain": [
       "'Pam'"
      ]
     },
     "execution_count": 22,
     "metadata": {},
     "output_type": "execute_result"
    }
   ],
   "source": [
    "full_name"
   ]
  },
  {
   "cell_type": "code",
   "execution_count": 23,
   "id": "902da5e0-b304-4135-8396-f63ca048ecba",
   "metadata": {},
   "outputs": [],
   "source": [
    "letter = 'z'"
   ]
  },
  {
   "cell_type": "code",
   "execution_count": 24,
   "id": "fbd2ee3d-748c-405d-b37f-29633a2d72f9",
   "metadata": {},
   "outputs": [
    {
     "data": {
      "text/plain": [
       "'zzzzzzzzzz'"
      ]
     },
     "execution_count": 24,
     "metadata": {},
     "output_type": "execute_result"
    }
   ],
   "source": [
    "letter*10"
   ]
  },
  {
   "cell_type": "code",
   "execution_count": 25,
   "id": "4b2ed5ea-8a1b-4b05-b76e-71c4449c0580",
   "metadata": {},
   "outputs": [],
   "source": [
    "x = \"Hello World \""
   ]
  },
  {
   "cell_type": "code",
   "execution_count": 26,
   "id": "452e01aa-f842-44de-8cf9-5f874e1f19ea",
   "metadata": {},
   "outputs": [
    {
     "data": {
      "text/plain": [
       "'HELLO WORLD '"
      ]
     },
     "execution_count": 26,
     "metadata": {},
     "output_type": "execute_result"
    }
   ],
   "source": [
    "x.upper()"
   ]
  },
  {
   "cell_type": "code",
   "execution_count": 27,
   "id": "f10bba36-ea74-4c43-a84b-4c7b0d1d4e73",
   "metadata": {},
   "outputs": [
    {
     "data": {
      "text/plain": [
       "'hello world '"
      ]
     },
     "execution_count": 27,
     "metadata": {},
     "output_type": "execute_result"
    }
   ],
   "source": [
    "x.lower()"
   ]
  },
  {
   "cell_type": "code",
   "execution_count": 28,
   "id": "62fee548-3564-4a67-aefa-f588840b9355",
   "metadata": {},
   "outputs": [
    {
     "data": {
      "text/plain": [
       "['Hello', 'World']"
      ]
     },
     "execution_count": 28,
     "metadata": {},
     "output_type": "execute_result"
    }
   ],
   "source": [
    "x.split()"
   ]
  },
  {
   "cell_type": "code",
   "execution_count": 30,
   "id": "96410a0b-ddae-4b8b-b788-ac585f4f368a",
   "metadata": {},
   "outputs": [
    {
     "data": {
      "text/plain": [
       "['He', '', 'o Wor', 'd ']"
      ]
     },
     "execution_count": 30,
     "metadata": {},
     "output_type": "execute_result"
    }
   ],
   "source": [
    "x.split(\"l\")"
   ]
  },
  {
   "cell_type": "code",
   "execution_count": 31,
   "id": "106272fe-a275-49ca-bad3-626faa87aaf7",
   "metadata": {},
   "outputs": [
    {
     "data": {
      "text/plain": [
       "'Hello World '"
      ]
     },
     "execution_count": 31,
     "metadata": {},
     "output_type": "execute_result"
    }
   ],
   "source": [
    "x"
   ]
  },
  {
   "cell_type": "markdown",
   "id": "e313824c-a918-4b21-8319-f68f861d035e",
   "metadata": {},
   "source": [
    "# String Formatting"
   ]
  },
  {
   "cell_type": "code",
   "execution_count": 32,
   "id": "06fd8c0e-8a4c-43e1-8307-658886d91552",
   "metadata": {},
   "outputs": [
    {
     "name": "stdout",
     "output_type": "stream",
     "text": [
      "This is a string Inserted \n"
     ]
    }
   ],
   "source": [
    "# .format()\n",
    "print(\"This is a string {} \".format(\"Inserted\"))"
   ]
  },
  {
   "cell_type": "code",
   "execution_count": 38,
   "id": "58ae9ca5-dd47-47a8-92ff-675e1881e2f6",
   "metadata": {},
   "outputs": [
    {
     "name": "stdout",
     "output_type": "stream",
     "text": [
      "The is bad very \n"
     ]
    }
   ],
   "source": [
    "print('The {0} {1} {2} '.format(\"is\",\"bad\",\"very\"))"
   ]
  },
  {
   "cell_type": "code",
   "execution_count": 41,
   "id": "ada8dace-20b1-4e98-ae42-97b3e5d5b7dc",
   "metadata": {},
   "outputs": [
    {
     "name": "stdout",
     "output_type": "stream",
     "text": [
      "The fox is fast\n"
     ]
    }
   ],
   "source": [
    "# using keyword is preference\n",
    "print(\"The {f} {i} {s}\".format(f = \"fox\",i = \"is\" ,s = \"fast\"))"
   ]
  },
  {
   "cell_type": "markdown",
   "id": "34347a1a-1074-4f8c-b4a6-e41a5cd2850a",
   "metadata": {},
   "source": [
    "# Float Formatting \n",
    ". Syntax:\n",
    "    {value:width.precisionf}"
   ]
  },
  {
   "cell_type": "code",
   "execution_count": 45,
   "id": "196ff555-07e7-4c45-a68a-a23f911bee72",
   "metadata": {},
   "outputs": [],
   "source": [
    "result = 999/2000"
   ]
  },
  {
   "cell_type": "code",
   "execution_count": 51,
   "id": "ef8b48cf-b495-4169-81e3-1b868ffe9f36",
   "metadata": {},
   "outputs": [],
   "source": [
    "result = 140.25689"
   ]
  },
  {
   "cell_type": "code",
   "execution_count": 52,
   "id": "730de9b7-eabe-4409-9cab-c1c9b82e210d",
   "metadata": {},
   "outputs": [
    {
     "name": "stdout",
     "output_type": "stream",
     "text": [
      "The result is 140.26\n"
     ]
    }
   ],
   "source": [
    "print(\"The result is {r:1.2f}\".format(r=result))"
   ]
  },
  {
   "cell_type": "markdown",
   "id": "0b651980-8ece-49d5-9599-ac87adbf97dd",
   "metadata": {},
   "source": [
    "# F-strings "
   ]
  },
  {
   "cell_type": "code",
   "execution_count": 53,
   "id": "16386dfd-b206-45e1-a9b9-cb8d7e2c896b",
   "metadata": {},
   "outputs": [
    {
     "name": "stdout",
     "output_type": "stream",
     "text": [
      "The result is 140.25689\n"
     ]
    }
   ],
   "source": [
    "print(f\"The result is {result}\")"
   ]
  },
  {
   "cell_type": "code",
   "execution_count": null,
   "id": "9bc14b46-f269-40ff-83b6-6105ffe2e9dd",
   "metadata": {},
   "outputs": [],
   "source": []
  }
 ],
 "metadata": {
  "kernelspec": {
   "display_name": "Python 3 (ipykernel)",
   "language": "python",
   "name": "python3"
  },
  "language_info": {
   "codemirror_mode": {
    "name": "ipython",
    "version": 3
   },
   "file_extension": ".py",
   "mimetype": "text/x-python",
   "name": "python",
   "nbconvert_exporter": "python",
   "pygments_lexer": "ipython3",
   "version": "3.11.4"
  }
 },
 "nbformat": 4,
 "nbformat_minor": 5
}
