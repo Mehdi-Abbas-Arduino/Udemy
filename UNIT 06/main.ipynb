{
 "cells": [
  {
   "cell_type": "code",
   "execution_count": 1,
   "metadata": {},
   "outputs": [],
   "source": [
    "def add(n1,n2):\n",
    "    print(n1+n2)"
   ]
  },
  {
   "cell_type": "code",
   "execution_count": 2,
   "metadata": {},
   "outputs": [
    {
     "name": "stdout",
     "output_type": "stream",
     "text": [
      "10\n"
     ]
    }
   ],
   "source": [
    "add(6,4)"
   ]
  },
  {
   "cell_type": "code",
   "execution_count": 8,
   "metadata": {},
   "outputs": [
    {
     "name": "stdout",
     "output_type": "stream",
     "text": [
      "30\n"
     ]
    }
   ],
   "source": [
    "try:\n",
    "    # Want to attempt this code may have an error\n",
    "    a = int(input(\"Enter The number = \"))\n",
    "    b = int(input(\"Enter the number = \"))\n",
    "    result = a + b\n",
    "except:\n",
    "    print(\"Hey it looks you aren't adding.\")\n",
    "finally:\n",
    "    print(result)\n"
   ]
  },
  {
   "cell_type": "code",
   "execution_count": 9,
   "metadata": {},
   "outputs": [
    {
     "data": {
      "text/plain": [
       "30"
      ]
     },
     "execution_count": 9,
     "metadata": {},
     "output_type": "execute_result"
    }
   ],
   "source": [
    "result"
   ]
  },
  {
   "cell_type": "code",
   "execution_count": 16,
   "metadata": {},
   "outputs": [
    {
     "name": "stdout",
     "output_type": "stream",
     "text": [
      "I always run\n"
     ]
    }
   ],
   "source": [
    "try : \n",
    "    with open(\"this.txt\",mode='w') as f:\n",
    "        f.write(\"Hello how are you?\")\n",
    "        # f.read()\n",
    "except FileExistsError:\n",
    "    print(\"Error\")\n",
    "except OSError:\n",
    "    print(\"Error\")\n",
    "finally:\n",
    "    print(\"I always run\")"
   ]
  },
  {
   "cell_type": "code",
   "execution_count": 1,
   "metadata": {},
   "outputs": [],
   "source": [
    "def ask_for_input():\n",
    "    while True:\n",
    "        try:\n",
    "            user_input = int(input(\"Please enter a number: \"))\n",
    "        except:\n",
    "            print(\"Integer Required\")\n",
    "            continue\n",
    "        else:\n",
    "            print(\"Thank You \")\n",
    "            break\n",
    "        finally:\n",
    "            print(\"Always Run\")"
   ]
  },
  {
   "cell_type": "code",
   "execution_count": 2,
   "metadata": {},
   "outputs": [
    {
     "name": "stdout",
     "output_type": "stream",
     "text": [
      "Thank You \n",
      "Always Run\n"
     ]
    }
   ],
   "source": [
    "ask_for_input() "
   ]
  },
  {
   "cell_type": "code",
   "execution_count": null,
   "metadata": {},
   "outputs": [],
   "source": []
  }
 ],
 "metadata": {
  "kernelspec": {
   "display_name": "base",
   "language": "python",
   "name": "python3"
  },
  "language_info": {
   "codemirror_mode": {
    "name": "ipython",
    "version": 3
   },
   "file_extension": ".py",
   "mimetype": "text/x-python",
   "name": "python",
   "nbconvert_exporter": "python",
   "pygments_lexer": "ipython3",
   "version": "3.11.5"
  }
 },
 "nbformat": 4,
 "nbformat_minor": 2
}
