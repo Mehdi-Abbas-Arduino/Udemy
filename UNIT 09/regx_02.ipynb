{
 "cells": [
  {
   "cell_type": "code",
   "execution_count": 1,
   "metadata": {},
   "outputs": [],
   "source": [
    "import re "
   ]
  },
  {
   "cell_type": "code",
   "execution_count": 2,
   "metadata": {},
   "outputs": [
    {
     "name": "stdout",
     "output_type": "stream",
     "text": [
      "name\n",
      "(3, 7)\n"
     ]
    }
   ],
   "source": [
    "text = \"My name is Mehdi Abbas\"\n",
    "pattern ='name'\n",
    "for i in re.finditer(pattern,text):\n",
    "    print(i.group())\n",
    "    print(i.span())"
   ]
  },
  {
   "cell_type": "markdown",
   "metadata": {},
   "source": [
    "# Character Identifiers\n",
    "\n",
    "- Character\n",
    "   -\\d\n",
    "   -\\w\n",
    "   -\\s\n",
    "   -\\D\n",
    "   -\\W\n",
    "   -\\S"
   ]
  },
  {
   "cell_type": "code",
   "execution_count": 3,
   "metadata": {},
   "outputs": [
    {
     "name": "stdout",
     "output_type": "stream",
     "text": [
      "<re.Match object; span=(19, 32), match='408-2256-9988'>\n"
     ]
    }
   ],
   "source": [
    "text = 'my phone number is 408-2256-9988'\n",
    "phone = re.search('408-2256-9988',text)\n",
    "print(phone)  "
   ]
  },
  {
   "cell_type": "code",
   "execution_count": 4,
   "metadata": {},
   "outputs": [
    {
     "name": "stdout",
     "output_type": "stream",
     "text": [
      "<re.Match object; span=(19, 32), match='408-2256-9988'>\n"
     ]
    }
   ],
   "source": [
    "phone = re.search('\\d\\d\\d-\\d\\d\\d\\d-\\d\\d\\d\\d',text)\n",
    "print(phone)"
   ]
  },
  {
   "cell_type": "code",
   "execution_count": 5,
   "metadata": {},
   "outputs": [
    {
     "name": "stdout",
     "output_type": "stream",
     "text": [
      "0332-8829273\n"
     ]
    }
   ],
   "source": [
    "number = \"0332-8829273\"\n",
    "pattern = re.search(r'\\d\\d\\d\\d-\\d\\d\\d\\d\\d\\d\\d',number)\n",
    "print(pattern.group())"
   ]
  },
  {
   "cell_type": "code",
   "execution_count": 6,
   "metadata": {},
   "outputs": [],
   "source": [
    "# r before a pattern is essential to specify you working with regex"
   ]
  },
  {
   "cell_type": "code",
   "execution_count": 7,
   "metadata": {},
   "outputs": [
    {
     "data": {
      "text/plain": [
       "'408-2256-9988'"
      ]
     },
     "execution_count": 7,
     "metadata": {},
     "output_type": "execute_result"
    }
   ],
   "source": [
    "phone.group()"
   ]
  },
  {
   "cell_type": "code",
   "execution_count": 8,
   "metadata": {},
   "outputs": [
    {
     "data": {
      "text/plain": [
       "(19, 32)"
      ]
     },
     "execution_count": 8,
     "metadata": {},
     "output_type": "execute_result"
    }
   ],
   "source": [
    "phone.span()"
   ]
  },
  {
   "cell_type": "code",
   "execution_count": 9,
   "metadata": {},
   "outputs": [
    {
     "data": {
      "text/plain": [
       "19"
      ]
     },
     "execution_count": 9,
     "metadata": {},
     "output_type": "execute_result"
    }
   ],
   "source": [
    "phone.start()"
   ]
  },
  {
   "cell_type": "code",
   "execution_count": 10,
   "metadata": {},
   "outputs": [
    {
     "data": {
      "text/plain": [
       "32"
      ]
     },
     "execution_count": 10,
     "metadata": {},
     "output_type": "execute_result"
    }
   ],
   "source": [
    "phone.end()"
   ]
  },
  {
   "cell_type": "code",
   "execution_count": 11,
   "metadata": {},
   "outputs": [
    {
     "name": "stdout",
     "output_type": "stream",
     "text": [
      "Multiple\n",
      "(462, 470)\n",
      "Multiple\n",
      "462\n",
      "470\n"
     ]
    }
   ],
   "source": [
    "text = '''Remote Internship Alert VilearnX Advanced Technologies\n",
    "VilearnX Advanced Technologies is hiring Summer Interns for August session 2024!\n",
    "\n",
    "Internship Domain: ✅ (Ending @30th August '24) 🚩\n",
    "\n",
    "1) Frontend Development\n",
    "2) Backend Development\n",
    "3) Full-Stack Web Development\n",
    "4) UI/UX Development\n",
    "5) DevOps & Cloud Computing\n",
    "6) AI & Machine Learning\n",
    "7) Mobile App Development\n",
    "\n",
    "Location: Remote 📌\n",
    "Duration: 4 weeks (starting 30 August '24)\n",
    "Experience: Anyone can apply\n",
    "Role: Multiple (7 Roles)\n",
    "\n",
    "Comment “Interested” & I’ll DM you the link. ✅'''\n",
    "pattern = r\"[A-Z]ultiple\"\n",
    "\n",
    "match = re.search(pattern, text)\n",
    "print(match.group())\n",
    "print(match.span())\n",
    "for i in re.finditer(pattern,text):\n",
    "    print(i.group())\n",
    "    print(i.start())\n",
    "    print(i.end())"
   ]
  },
  {
   "cell_type": "markdown",
   "metadata": {},
   "source": [
    "# Quantifiers\n",
    "\n",
    "- Quantifiers in regular expressions (regex) specify how many times a particular pattern"
   ]
  },
  {
   "cell_type": "code",
   "execution_count": 12,
   "metadata": {},
   "outputs": [
    {
     "name": "stdout",
     "output_type": "stream",
     "text": [
      "Multiple\n",
      "462\n",
      "470\n",
      "Multiple\n"
     ]
    }
   ],
   "source": [
    "matches = re.finditer(pattern,text)\n",
    "for match in matches:\n",
    "    print(match.group())\n",
    "    print(match.span()[0])\n",
    "    print(match.span()[1])\n",
    "    print(text[match.span()[0]:match.span()[1]])"
   ]
  },
  {
   "cell_type": "code",
   "execution_count": 20,
   "metadata": {},
   "outputs": [],
   "source": [
    "text = \"The agents number was : 0332-8829273\"\n",
    "pattern = r\"\\d{4}-\\d{7}\""
   ]
  },
  {
   "cell_type": "code",
   "execution_count": 21,
   "metadata": {},
   "outputs": [],
   "source": [
    "matches = re.search(pattern,text)"
   ]
  },
  {
   "cell_type": "code",
   "execution_count": 22,
   "metadata": {},
   "outputs": [
    {
     "data": {
      "text/plain": [
       "<re.Match object; span=(24, 36), match='0332-8829273'>"
      ]
     },
     "execution_count": 22,
     "metadata": {},
     "output_type": "execute_result"
    }
   ],
   "source": [
    "matches"
   ]
  },
  {
   "cell_type": "code",
   "execution_count": 23,
   "metadata": {},
   "outputs": [
    {
     "data": {
      "text/plain": [
       "'0332-8829273'"
      ]
     },
     "execution_count": 23,
     "metadata": {},
     "output_type": "execute_result"
    }
   ],
   "source": [
    "matches.group()"
   ]
  },
  {
   "cell_type": "code",
   "execution_count": 24,
   "metadata": {},
   "outputs": [],
   "source": [
    "phone_pattern = re.compile(r'(\\d{4})-(\\d{7})')"
   ]
  },
  {
   "cell_type": "code",
   "execution_count": 25,
   "metadata": {},
   "outputs": [
    {
     "data": {
      "text/plain": [
       "re.compile(r'(\\d{4})-(\\d{7})', re.UNICODE)"
      ]
     },
     "execution_count": 25,
     "metadata": {},
     "output_type": "execute_result"
    }
   ],
   "source": [
    "phone_pattern"
   ]
  },
  {
   "cell_type": "code",
   "execution_count": 26,
   "metadata": {},
   "outputs": [],
   "source": [
    "results = re.search(phone_pattern,text)"
   ]
  },
  {
   "cell_type": "code",
   "execution_count": 28,
   "metadata": {},
   "outputs": [
    {
     "data": {
      "text/plain": [
       "'0332-8829273'"
      ]
     },
     "execution_count": 28,
     "metadata": {},
     "output_type": "execute_result"
    }
   ],
   "source": [
    "results.group()"
   ]
  },
  {
   "cell_type": "code",
   "execution_count": 30,
   "metadata": {},
   "outputs": [
    {
     "data": {
      "text/plain": [
       "'8829273'"
      ]
     },
     "execution_count": 30,
     "metadata": {},
     "output_type": "execute_result"
    }
   ],
   "source": [
    "results.group(2)"
   ]
  },
  {
   "cell_type": "code",
   "execution_count": 44,
   "metadata": {},
   "outputs": [
    {
     "name": "stdout",
     "output_type": "stream",
     "text": [
      "0331-2797101\n"
     ]
    }
   ],
   "source": [
    "x = \"0331-2797101\"\n",
    "\n",
    "# Pattern to match a phone number format\n",
    "pattern = r\"\\d{4}-\\d{7}\"\n",
    "\n",
    "# Search for the pattern in the string\n",
    "ma = re.search(pattern, x)\n",
    "\n",
    "# Compiling a regex pattern for extracting groups\n",
    "y = re.compile(r'(\\d{4})-(\\d{7})')\n",
    "\n",
    "# Searching for the pattern in the match object\n",
    "z = re.search(y, ma.group())  # Use ma.group() to get the matched string\n",
    "\n",
    "# Printing the matched group\n",
    "print(z.group())  # Output: 0331-2797101"
   ]
  },
  {
   "cell_type": "code",
   "execution_count": null,
   "metadata": {},
   "outputs": [],
   "source": []
  }
 ],
 "metadata": {
  "kernelspec": {
   "display_name": "base",
   "language": "python",
   "name": "python3"
  },
  "language_info": {
   "codemirror_mode": {
    "name": "ipython",
    "version": 3
   },
   "file_extension": ".py",
   "mimetype": "text/x-python",
   "name": "python",
   "nbconvert_exporter": "python",
   "pygments_lexer": "ipython3",
   "version": "3.11.5"
  }
 },
 "nbformat": 4,
 "nbformat_minor": 2
}
