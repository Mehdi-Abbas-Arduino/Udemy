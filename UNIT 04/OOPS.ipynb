{
 "cells": [
  {
   "cell_type": "code",
   "execution_count": 1,
   "metadata": {},
   "outputs": [
    {
     "name": "stdout",
     "output_type": "stream",
     "text": [
      "Your name is  Your age is 2 Your gender is Male\n"
     ]
    }
   ],
   "source": [
    "class Dog():\n",
    "    def __init__(self,name,age,gender):\n",
    "        '''Attributes\n",
    "        We take in a argument\n",
    "        Assign it using self.attribute_name'''\n",
    "        self.name = name\n",
    "        self.age = age\n",
    "        self.gender = gender\n",
    "    def get_gender(self):\n",
    "        return self.gender\n",
    "    \n",
    "a = Dog(input(\"Enter your name = \"),int(input(\"Enter your age\")),input(\"Enter your gender = \"))\n",
    "print(\"Your name is\",a.name,\"Your age is\",a.age,\"Your gender is\",a.get_gender())"
   ]
  },
  {
   "cell_type": "code",
   "execution_count": 3,
   "metadata": {},
   "outputs": [],
   "source": [
    "# Class is a blueprint for creating instances \n",
    "# Instance variable contains data which is unique for each instance\n",
    "\n",
    "class Employee:\n",
    "    def __init__(self,first,last,pay) -> None:\n",
    "        self.first = first\n",
    "        self.last = last\n",
    "        self.email = f\"{first}.{last}@company.com\" \n",
    "        self.pay = pay\n",
    "    def full_name(self):\n",
    "        return f\"{self.first } {self.last}\"\n",
    "\n",
    "emp1 = Employee(first = \"Mehdi\",last = \"Abbas\",pay =50000)"
   ]
  },
  {
   "cell_type": "code",
   "execution_count": 4,
   "metadata": {},
   "outputs": [
    {
     "data": {
      "text/plain": [
       "'Mehdi.Abbas@company.com'"
      ]
     },
     "execution_count": 4,
     "metadata": {},
     "output_type": "execute_result"
    }
   ],
   "source": [
    "emp1.email"
   ]
  },
  {
   "cell_type": "code",
   "execution_count": 5,
   "metadata": {},
   "outputs": [
    {
     "data": {
      "text/plain": [
       "'Mehdi Abbas'"
      ]
     },
     "execution_count": 5,
     "metadata": {},
     "output_type": "execute_result"
    }
   ],
   "source": [
    "emp1.full_name()"
   ]
  },
  {
   "cell_type": "code",
   "execution_count": 6,
   "metadata": {},
   "outputs": [
    {
     "data": {
      "text/plain": [
       "'Mehdi Abbas'"
      ]
     },
     "execution_count": 6,
     "metadata": {},
     "output_type": "execute_result"
    }
   ],
   "source": [
    "Employee.full_name(emp1)"
   ]
  },
  {
   "cell_type": "code",
   "execution_count": null,
   "metadata": {},
   "outputs": [],
   "source": []
  }
 ],
 "metadata": {
  "kernelspec": {
   "display_name": "base",
   "language": "python",
   "name": "python3"
  },
  "language_info": {
   "codemirror_mode": {
    "name": "ipython",
    "version": 3
   },
   "file_extension": ".py",
   "mimetype": "text/x-python",
   "name": "python",
   "nbconvert_exporter": "python",
   "pygments_lexer": "ipython3",
   "version": "3.11.5"
  }
 },
 "nbformat": 4,
 "nbformat_minor": 2
}
